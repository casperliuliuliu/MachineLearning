{
 "cells": [
  {
   "cell_type": "code",
   "execution_count": 1,
   "metadata": {},
   "outputs": [],
   "source": [
    "import pandas as pd\n",
    "from datetime import datetime\n",
    "from sklearn.model_selection import train_test_split\n",
    "from sklearn.linear_model import LogisticRegression\n",
    "from sklearn.metrics import confusion_matrix\n",
    "from sklearn.metrics import accuracy_score, precision_score, recall_score, f1_score, roc_auc_score\n",
    "from sklearn.linear_model import LogisticRegression\n",
    "from sklearn.model_selection import GridSearchCV\n",
    "from sklearn.preprocessing import PolynomialFeatures\n",
    "from sklearn.pipeline import make_pipeline\n",
    "from sklearn.preprocessing import PolynomialFeatures, StandardScaler\n",
    "from sklearn.pipeline import make_pipeline\n",
    "from sklearn.ensemble import VotingClassifier\n",
    "from sklearn.metrics import accuracy_score\n",
    "from imblearn.over_sampling import SMOTE\n",
    "from sklearn.linear_model import Lasso\n",
    "data = pd.read_csv('./HW3 附件/HW3_creditcard.csv')"
   ]
  },
  {
   "cell_type": "code",
   "execution_count": 10,
   "metadata": {},
   "outputs": [],
   "source": [
    "def metrics(y_test, y_pred):\n",
    "    # Calculate accuracy\n",
    "    accuracy = accuracy_score(y_test, y_pred)\n",
    "    print(\"Accuracy:\", accuracy)\n",
    "\n",
    "    # Calculate precision\n",
    "    precision = precision_score(y_test, y_pred)\n",
    "    print(\"Precision:\", precision)\n",
    "\n",
    "    # Calculate recall (sensitivity)\n",
    "    recall = recall_score(y_test, y_pred)\n",
    "    print(\"Recall (Sensitivity):\", recall)\n",
    "\n",
    "    # Calculate F1 score (harmonic mean of precision and recall)\n",
    "    f1 = f1_score(y_test, y_pred)\n",
    "    print(\"F1 Score:\", f1)\n",
    "    # Calculate ROC AUC (Receiver Operating Characteristic Area Under the Curve)\n",
    "    roc_auc = roc_auc_score(y_test, y_pred)\n",
    "    print(\"ROC AUC:\", roc_auc)"
   ]
  },
  {
   "cell_type": "code",
   "execution_count": 5,
   "metadata": {},
   "outputs": [],
   "source": [
    "df = data.copy()\n",
    "target_column = 'Class'\n",
    "test_size = 0.3\n",
    "random_state = 42\n",
    "\n",
    "X = df.drop(columns=[target_column])\n",
    "y = df[target_column]\n",
    "\n",
    "# Split the data into training, validation, and test sets\n",
    "X_train, X_val, y_train, y_val = train_test_split(X, y, test_size=test_size, random_state=random_state)"
   ]
  },
  {
   "cell_type": "code",
   "execution_count": 21,
   "metadata": {},
   "outputs": [
    {
     "name": "stdout",
     "output_type": "stream",
     "text": [
      "In all the data:\n",
      "Class 0: 28432\n",
      "Class 1: 492\n",
      "\n",
      "In Train data:\n",
      "Class 0: 19909\n",
      "Class 1: 337\n",
      "\n",
      "In Val data:\n",
      "Class 0: 8523\n",
      "Class 1: 155\n"
     ]
    }
   ],
   "source": [
    "print(\"In all the data:\")\n",
    "print(f\"Class 0: {(y == 0).sum()}\")\n",
    "print(f\"Class 1: {(y == 1).sum()}\")\n",
    "print('')\n",
    "print(\"In Train data:\")\n",
    "print(f\"Class 0: {(y_train == 0).sum()}\")\n",
    "print(f\"Class 1: {(y_train == 1).sum()}\")\n",
    "print('')\n",
    "print(\"In Val data:\")\n",
    "print(f\"Class 0: {(y_val == 0).sum()}\")\n",
    "print(f\"Class 1: {(y_val == 1).sum()}\")"
   ]
  },
  {
   "cell_type": "code",
   "execution_count": 8,
   "metadata": {},
   "outputs": [
    {
     "name": "stdout",
     "output_type": "stream",
     "text": [
      "(20246, 30)\n",
      "(8678, 30)\n",
      "(28924, 30)\n"
     ]
    }
   ],
   "source": [
    "print(X_train.shape)\n",
    "print(X_val.shape)\n",
    "print(X.shape)"
   ]
  },
  {
   "cell_type": "code",
   "execution_count": 35,
   "metadata": {},
   "outputs": [
    {
     "name": "stdout",
     "output_type": "stream",
     "text": [
      "Training Accuracy: 1.0\n",
      "[[19909     0]\n",
      " [    0   337]]\n",
      "Accuracy: 1.0\n",
      "Precision: 1.0\n",
      "Recall (Sensitivity): 1.0\n",
      "F1 Score: 1.0\n",
      "ROC AUC: 1.0\n",
      "Validation Accuracy: 0.9944687716063609\n",
      "[[8503   20]\n",
      " [  28  127]]\n",
      "Accuracy: 0.9944687716063609\n",
      "Precision: 0.8639455782312925\n",
      "Recall (Sensitivity): 0.8193548387096774\n",
      "F1 Score: 0.8410596026490067\n",
      "ROC AUC: 0.9085041235669706\n",
      "Training Accuracy: 1.0\n",
      "[[19909     0]\n",
      " [    0   337]]\n",
      "Accuracy: 1.0\n",
      "Precision: 1.0\n",
      "Recall (Sensitivity): 1.0\n",
      "F1 Score: 1.0\n",
      "ROC AUC: 1.0\n",
      "Validation Accuracy: 0.9942383037566259\n",
      "[[8502   21]\n",
      " [  29  126]]\n",
      "Accuracy: 0.9942383037566259\n",
      "Precision: 0.8571428571428571\n",
      "Recall (Sensitivity): 0.8129032258064516\n",
      "F1 Score: 0.8344370860927152\n",
      "ROC AUC: 0.9052196523259644\n"
     ]
    }
   ],
   "source": [
    "from sklearn.tree import DecisionTreeClassifier\n",
    "\n",
    "# Create a Decision Tree classifier\n",
    "decision_tree_classifier = DecisionTreeClassifier(random_state=42)\n",
    "weighted_tree_classifier = DecisionTreeClassifier(class_weight={0: 1, 1: 2}, random_state=42)\n",
    "\n",
    "\n",
    "def test_model(classifier):\n",
    "    classifier.fit(X_train, y_train)\n",
    "    # Predict on the training data and calculate accuracy\n",
    "    y_pred = classifier.predict(X_train)\n",
    "    accuracy = accuracy_score(y_train, y_pred)\n",
    "    print(\"Training Accuracy:\", accuracy)\n",
    "    confusion = confusion_matrix(y_train, y_pred)\n",
    "    print(confusion)\n",
    "    metrics(y_train, y_pred)\n",
    "\n",
    "\n",
    "    # Predict on the validation data and calculate accuracy\n",
    "    y_pred = classifier.predict(X_val)\n",
    "    accuracy = accuracy_score(y_val, y_pred)\n",
    "    print(\"Validation Accuracy:\", accuracy)\n",
    "    confusion = confusion_matrix(y_val, y_pred)\n",
    "    print(confusion)\n",
    "    metrics(y_val, y_pred)\n",
    "\n",
    "test_model(decision_tree_classifier)\n",
    "test_model(weighted_tree_classifier)\n"
   ]
  },
  {
   "cell_type": "code",
   "execution_count": 32,
   "metadata": {},
   "outputs": [
    {
     "name": "stdout",
     "output_type": "stream",
     "text": [
      "Training Accuracy: 1.0\n",
      "[[19909     0]\n",
      " [    0   337]]\n",
      "Accuracy: 1.0\n",
      "Precision: 1.0\n",
      "Recall (Sensitivity): 1.0\n",
      "F1 Score: 1.0\n",
      "ROC AUC: 1.0\n",
      "Validation Accuracy: 0.9942383037566259\n",
      "[[8502   21]\n",
      " [  29  126]]\n",
      "Accuracy: 0.9942383037566259\n",
      "Precision: 0.8571428571428571\n",
      "Recall (Sensitivity): 0.8129032258064516\n",
      "F1 Score: 0.8344370860927152\n",
      "ROC AUC: 0.9052196523259644\n"
     ]
    }
   ],
   "source": [
    "weighted_tree_classifier.fit(X_train, y_train)\n",
    "\n",
    "# Predict on the training data and calculate accuracy\n",
    "y_pred = weighted_tree_classifier.predict(X_train)\n",
    "accuracy = accuracy_score(y_train, y_pred)\n",
    "print(\"Training Accuracy:\", accuracy)\n",
    "confusion = confusion_matrix(y_train, y_pred)\n",
    "print(confusion)\n",
    "metrics(y_train, y_pred)\n",
    "\n",
    "\n",
    "# Predict on the validation data and calculate accuracy\n",
    "y_pred = weighted_tree_classifier.predict(X_val)\n",
    "accuracy = accuracy_score(y_val, y_pred)\n",
    "print(\"Validation Accuracy:\", accuracy)\n",
    "confusion = confusion_matrix(y_val, y_pred)\n",
    "print(confusion)\n",
    "metrics(y_val, y_pred)\n"
   ]
  },
  {
   "cell_type": "code",
   "execution_count": 36,
   "metadata": {},
   "outputs": [
    {
     "name": "stdout",
     "output_type": "stream",
     "text": [
      "Original Data Model:\n",
      "Accuracy: 0.9944687716063609\n",
      "Precision: 0.8639455782312925\n",
      "Recall: 0.8193548387096774\n",
      "F1 Score: 0.8410596026490067\n",
      "ROC AUC: 0.9085041235669706\n",
      "\n",
      "Resampled Data Model:\n",
      "Accuracy: 0.9891680110624568\n",
      "Precision: 0.6532663316582915\n",
      "Recall: 0.8387096774193549\n",
      "F1 Score: 0.7344632768361582\n",
      "ROC AUC: 0.9153069682415325\n",
      "\n",
      "Original Data Model Confusion Matrix:\n",
      "[[8503   20]\n",
      " [  28  127]]\n",
      "\n",
      "Resampled Data Model Confusion Matrix:\n",
      "[[8454   69]\n",
      " [  25  130]]\n"
     ]
    }
   ],
   "source": [
    "from imblearn.over_sampling import SMOTE\n",
    "from sklearn.tree import DecisionTreeClassifier\n",
    "from sklearn.metrics import accuracy_score, precision_score, recall_score, f1_score, roc_auc_score, confusion_matrix\n",
    "\n",
    "# 使用SMOTE生成合成样本\n",
    "smote = SMOTE(random_state=42)\n",
    "X_train_resampled, y_train_resampled = smote.fit_resample(X_train, y_train)\n",
    "\n",
    "# 创建Decision Tree分类器\n",
    "decision_tree_classifier = DecisionTreeClassifier(random_state=42)\n",
    "\n",
    "# 使用原始数据拟合模型\n",
    "decision_tree_classifier.fit(X_train, y_train)\n",
    "\n",
    "# 使用SMOTE生成的数据拟合模型\n",
    "decision_tree_classifier_resampled = DecisionTreeClassifier(random_state=42)\n",
    "decision_tree_classifier_resampled.fit(X_train_resampled, y_train_resampled)\n",
    "\n",
    "# 预测并计算原始数据模型的指标\n",
    "y_pred = decision_tree_classifier.predict(X_val)\n",
    "accuracy = accuracy_score(y_val, y_pred)\n",
    "precision = precision_score(y_val, y_pred)\n",
    "recall = recall_score(y_val, y_pred)\n",
    "f1 = f1_score(y_val, y_pred)\n",
    "roc_auc = roc_auc_score(y_val, y_pred)\n",
    "\n",
    "# 预测并计算使用SMOTE生成的数据模型的指标\n",
    "y_pred_resampled = decision_tree_classifier_resampled.predict(X_val)\n",
    "accuracy_resampled = accuracy_score(y_val, y_pred_resampled)\n",
    "precision_resampled = precision_score(y_val, y_pred_resampled)\n",
    "recall_resampled = recall_score(y_val, y_pred_resampled)\n",
    "f1_resampled = f1_score(y_val, y_pred_resampled)\n",
    "roc_auc_resampled = roc_auc_score(y_val, y_pred_resampled)\n",
    "\n",
    "# 打印原始数据模型和使用SMOTE生成数据模型的指标结果\n",
    "print(\"Original Data Model:\")\n",
    "print(\"Accuracy:\", accuracy)\n",
    "print(\"Precision:\", precision)\n",
    "print(\"Recall:\", recall)\n",
    "print(\"F1 Score:\", f1)\n",
    "print(\"ROC AUC:\", roc_auc)\n",
    "\n",
    "print(\"\\nResampled Data Model:\")\n",
    "print(\"Accuracy:\", accuracy_resampled)\n",
    "print(\"Precision:\", precision_resampled)\n",
    "print(\"Recall:\", recall_resampled)\n",
    "print(\"F1 Score:\", f1_resampled)\n",
    "print(\"ROC AUC:\", roc_auc_resampled)\n",
    "\n",
    "# 打印混淆矩阵\n",
    "print(\"\\nOriginal Data Model Confusion Matrix:\")\n",
    "print(confusion_matrix(y_val, y_pred))\n",
    "\n",
    "print(\"\\nResampled Data Model Confusion Matrix:\")\n",
    "print(confusion_matrix(y_val, y_pred_resampled))\n",
    "\n"
   ]
  },
  {
   "cell_type": "code",
   "execution_count": 39,
   "metadata": {},
   "outputs": [
    {
     "name": "stdout",
     "output_type": "stream",
     "text": [
      "XGBoost Model with SMOTE:\n",
      "Accuracy: 0.9967734501037105\n",
      "Precision: 0.9261744966442953\n",
      "Recall: 0.8903225806451613\n",
      "F1 Score: 0.9078947368421052\n",
      "ROC AUC: 0.9445159776392533\n",
      "Confusion Matrix:\n",
      "[[8512   11]\n",
      " [  17  138]]\n"
     ]
    }
   ],
   "source": [
    "import xgboost as xgb\n",
    "from sklearn.metrics import accuracy_score, precision_score, recall_score, f1_score, roc_auc_score, confusion_matrix\n",
    "from imblearn.over_sampling import SMOTE\n",
    "from imblearn.pipeline import Pipeline\n",
    "\n",
    "# 使用SMOTE生成合成样本\n",
    "smote = SMOTE(sampling_strategy='auto', random_state=42)\n",
    "xgb_model = xgb.XGBClassifier()\n",
    "\n",
    "# 创建一个Pipeline，包含SMOTE和XGBoost模型\n",
    "pipeline = Pipeline([('SMOTE', smote), ('XGBoost', xgb_model)])\n",
    "\n",
    "# 使用Pipeline拟合模型\n",
    "pipeline.fit(X_train, y_train)\n",
    "\n",
    "# 预测并计算模型的指标\n",
    "y_pred = pipeline.predict(X_val)\n",
    "accuracy = accuracy_score(y_val, y_pred)\n",
    "precision = precision_score(y_val, y_pred)\n",
    "recall = recall_score(y_val, y_pred)\n",
    "f1 = f1_score(y_val, y_pred)\n",
    "roc_auc = roc_auc_score(y_val, y_pred)\n",
    "\n",
    "# 打印模型的指标结果\n",
    "print(\"XGBoost Model with SMOTE:\")\n",
    "print(\"Accuracy:\", accuracy)\n",
    "print(\"Precision:\", precision)\n",
    "print(\"Recall:\", recall)\n",
    "print(\"F1 Score:\", f1)\n",
    "print(\"ROC AUC:\", roc_auc)\n",
    "\n",
    "# 打印混淆矩阵\n",
    "print(\"Confusion Matrix:\")\n",
    "print(confusion_matrix(y_val, y_pred))\n"
   ]
  }
 ],
 "metadata": {
  "kernelspec": {
   "display_name": "base",
   "language": "python",
   "name": "python3"
  },
  "language_info": {
   "codemirror_mode": {
    "name": "ipython",
    "version": 3
   },
   "file_extension": ".py",
   "mimetype": "text/x-python",
   "name": "python",
   "nbconvert_exporter": "python",
   "pygments_lexer": "ipython3",
   "version": "3.10.11"
  }
 },
 "nbformat": 4,
 "nbformat_minor": 2
}
