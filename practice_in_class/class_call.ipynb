{
 "cells": [
  {
   "cell_type": "code",
   "execution_count": 2,
   "id": "4f1a466b-522d-49bd-b4b4-394405c52c7e",
   "metadata": {},
   "outputs": [],
   "source": [
    "class ABC():\n",
    "    ''' DOC: hehe '''\n",
    "    def __init__(self):\n",
    "        print('good morning')\n",
    "    def __str__(self):\n",
    "        return 'i am abc'\n",
    "    def __call__(self):\n",
    "        print('hahah')"
   ]
  },
  {
   "cell_type": "code",
   "execution_count": 3,
   "id": "ed6d738e-08bb-4093-9b37-86c654a49483",
   "metadata": {},
   "outputs": [
    {
     "name": "stdout",
     "output_type": "stream",
     "text": [
      "good morning\n",
      "good morning\n"
     ]
    }
   ],
   "source": [
    "aa = ABC()\n",
    "bb = ABC()\n"
   ]
  },
  {
   "cell_type": "code",
   "execution_count": 4,
   "id": "cfe43205-f1a0-426b-8cce-d8a22ad9a722",
   "metadata": {},
   "outputs": [
    {
     "name": "stdout",
     "output_type": "stream",
     "text": [
      "i am abc\n"
     ]
    }
   ],
   "source": [
    "print(aa)"
   ]
  },
  {
   "cell_type": "code",
   "execution_count": 6,
   "id": "ff817a48-b587-4cbd-9252-e1e756289bbd",
   "metadata": {
    "scrolled": true
   },
   "outputs": [
    {
     "name": "stdout",
     "output_type": "stream",
     "text": [
      " DOC: hehe \n"
     ]
    }
   ],
   "source": [
    "# print(dir(aa))\n",
    "print(aa.__doc__)"
   ]
  },
  {
   "cell_type": "code",
   "execution_count": null,
   "id": "c1f6c9c3",
   "metadata": {},
   "outputs": [],
   "source": []
  }
 ],
 "metadata": {
  "kernelspec": {
   "display_name": "base",
   "language": "python",
   "name": "python3"
  },
  "language_info": {
   "codemirror_mode": {
    "name": "ipython",
    "version": 3
   },
   "file_extension": ".py",
   "mimetype": "text/x-python",
   "name": "python",
   "nbconvert_exporter": "python",
   "pygments_lexer": "ipython3",
   "version": "3.10.11"
  }
 },
 "nbformat": 4,
 "nbformat_minor": 5
}
