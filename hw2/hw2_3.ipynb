{
 "cells": [
  {
   "cell_type": "code",
   "execution_count": 30,
   "metadata": {},
   "outputs": [],
   "source": [
    "import pandas as pd\n",
    "from datetime import datetime\n",
    "from sklearn.model_selection import train_test_split\n",
    "from sklearn.linear_model import LogisticRegression\n",
    "from sklearn.metrics import confusion_matrix\n",
    "from sklearn.metrics import accuracy_score, precision_score, recall_score, f1_score, roc_auc_score\n",
    "from sklearn.linear_model import LogisticRegression\n",
    "from sklearn.model_selection import GridSearchCV\n",
    "from sklearn.preprocessing import PolynomialFeatures\n",
    "from sklearn.pipeline import make_pipeline\n",
    "from sklearn.preprocessing import PolynomialFeatures, StandardScaler\n",
    "from sklearn.pipeline import make_pipeline\n",
    "from sklearn.ensemble import VotingClassifier\n",
    "from sklearn.metrics import accuracy_score\n",
    "from imblearn.over_sampling import SMOTE\n",
    "from sklearn.linear_model import Lasso\n",
    "data = pd.read_csv('./HW2 附件/HW2_hr-analytics_train.csv')"
   ]
  },
  {
   "cell_type": "code",
   "execution_count": 31,
   "metadata": {},
   "outputs": [
    {
     "name": "stdout",
     "output_type": "stream",
     "text": [
      "Doing onehot encoding on col: ['sales', 'salary']\n",
      "(10000, 10) -> (10000, 19)\n",
      "(10000, 19) -> (10000, 21)\n"
     ]
    }
   ],
   "source": [
    "df = data.copy()\n",
    "# check nan\n",
    "def check_nan(df):\n",
    "    return df.isna().any().any()\n",
    "\n",
    "def onehot_encoding(df, column_name):\n",
    "    df_encoded = pd.get_dummies(df, columns=[column_name], prefix=[column_name])\n",
    "    print(df.shape, \"->\", df_encoded.shape)\n",
    "    return df_encoded\n",
    "\n",
    "def pprint(output = '\\n', show_time = False): # print and fprint at the same time\n",
    "    global filename\n",
    "    print(output)\n",
    "    with open(filename, 'a') as f:\n",
    "        if show_time:\n",
    "            f.write(datetime.now().strftime(\"[%Y-%m-%d %H:%M:%S] \"))\n",
    "\n",
    "        f.write(str(output))\n",
    "        f.write('\\n')\n",
    "        \n",
    "def check_non_numeric_values(df, column_name):\n",
    "    \"\"\"\n",
    "    Check if any value in the specified column is not int or float.\n",
    "\n",
    "    Parameters:\n",
    "    df (DataFrame): The DataFrame to check.\n",
    "    column_name (str): The name of the column to check.\n",
    "\n",
    "    Returns:\n",
    "    bool: True if any non-numeric value is found, False otherwise.\n",
    "    \"\"\"\n",
    "    # Get the specified column\n",
    "    column = df[column_name]\n",
    "\n",
    "    # Check if any value is not int or float\n",
    "    non_numeric_values = column[~column.apply(lambda x: isinstance(x, (int, float)))]\n",
    "    \n",
    "    return not non_numeric_values.empty\n",
    "\n",
    "def count_unique_values(df, column_name):\n",
    "    \"\"\"\n",
    "    Count the number of unique values in the specified column.\n",
    "\n",
    "    Parameters:\n",
    "    df (DataFrame): The DataFrame to check.\n",
    "    column_name (str): The name of the column to count unique values for.\n",
    "\n",
    "    Returns:\n",
    "    int: The count of unique values.\n",
    "    \"\"\"\n",
    "    unique_values = df[column_name].nunique()\n",
    "    return unique_values\n",
    "\n",
    "def metrics(y_test, y_pred):\n",
    "    # Calculate accuracy\n",
    "    accuracy = accuracy_score(y_test, y_pred)\n",
    "    print(\"Accuracy:\", accuracy)\n",
    "\n",
    "    # Calculate precision\n",
    "    precision = precision_score(y_test, y_pred)\n",
    "    print(\"Precision:\", precision)\n",
    "\n",
    "    # Calculate recall (sensitivity)\n",
    "    recall = recall_score(y_test, y_pred)\n",
    "    print(\"Recall (Sensitivity):\", recall)\n",
    "\n",
    "    # Calculate F1 score (harmonic mean of precision and recall)\n",
    "    f1 = f1_score(y_test, y_pred)\n",
    "    print(\"F1 Score:\", f1)\n",
    "    # Calculate ROC AUC (Receiver Operating Characteristic Area Under the Curve)\n",
    "    roc_auc = roc_auc_score(y_test, y_pred)\n",
    "    print(\"ROC AUC:\", roc_auc)\n",
    "    \n",
    "col_not_num = []\n",
    "for col in df.columns:\n",
    "    if check_non_numeric_values(df, col):\n",
    "        col_not_num.append(col)\n",
    "\n",
    "print(f\"Doing onehot encoding on col: {col_not_num}\")\n",
    "for col in col_not_num:\n",
    "    df = onehot_encoding(df, col)\n"
   ]
  },
  {
   "cell_type": "code",
   "execution_count": 32,
   "metadata": {},
   "outputs": [],
   "source": [
    "target_column = 'left'\n",
    "test_size = 0.2\n",
    "random_state = 42\n",
    "\n",
    "trans = True\n",
    "if trans: # 956 -> 957\n",
    "    scaler = StandardScaler()\n",
    "    df['average_montly_hours'] = scaler.fit_transform(df[['average_montly_hours']])\n",
    "    # df['time_spend_company'] = scaler.fit_transform(df[['time_spend_company']])\n",
    "\n",
    "\n",
    "\n",
    "X = df.drop(columns=[target_column])\n",
    "y = df[target_column]\n",
    "\n",
    "# Split the data into training, validation, and test sets\n",
    "X_train, X_temp, y_train, y_temp = train_test_split(X, y, test_size=test_size, random_state=random_state)\n",
    "X_val, X_test, y_val, y_test = train_test_split(X_temp, y_temp, test_size=0.5, random_state=random_state)"
   ]
  },
  {
   "cell_type": "code",
   "execution_count": 33,
   "metadata": {},
   "outputs": [
    {
     "name": "stdout",
     "output_type": "stream",
     "text": [
      "Improved Accuracy: 0.967375\n",
      "[[6010   80]\n",
      " [ 181 1729]]\n",
      "Accuracy: 0.967375\n",
      "Precision: 0.9557766721945826\n",
      "Recall (Sensitivity): 0.9052356020942408\n",
      "F1 Score: 0.9298198440440979\n",
      "ROC AUC: 0.9460496565479415\n",
      "Improved Accuracy: 0.957\n",
      "[[743  16]\n",
      " [ 27 214]]\n",
      "Accuracy: 0.957\n",
      "Precision: 0.9304347826086956\n",
      "Recall (Sensitivity): 0.8879668049792531\n",
      "F1 Score: 0.9087048832271761\n",
      "ROC AUC: 0.9334432180363987\n"
     ]
    }
   ],
   "source": [
    "poly2 = PolynomialFeatures(degree=2)\n",
    "poly3 = PolynomialFeatures(degree=3)\n",
    "poly4 = PolynomialFeatures(degree=4)\n",
    "\n",
    "lasso_classifier1 = make_pipeline(StandardScaler(), LogisticRegression(penalty='l1', solver='liblinear', C=10)) #782\n",
    "lasso_classifier2 = make_pipeline(poly2, StandardScaler(), LogisticRegression(penalty='l1', solver='liblinear', C=10)) # 954\n",
    "# lasso_classifier3 = make_pipeline(poly3, StandardScaler(), LogisticRegression(penalty='l1', solver='liblinear', C=10)) # also too hard.\n",
    "# lasso_classifier4 = make_pipeline(poly4, StandardScaler(), LogisticRegression(penalty='l1', solver='liblinear', C=10)) # too hard!\n",
    "ridge_classifier1 = make_pipeline(StandardScaler(), LogisticRegression(penalty='l2', solver='liblinear', C=10)) # 782\n",
    "ridge_classifier2 = make_pipeline(poly2, StandardScaler(), LogisticRegression(penalty='l2', solver='liblinear', C=10)) # 954\n",
    "ridge_classifier3 = make_pipeline(poly3, StandardScaler(), LogisticRegression(penalty='l2', solver='liblinear', C=10)) # 949\n",
    "# ridge_classifier4 = make_pipeline(poly4, StandardScaler(), LogisticRegression(penalty='l2', solver='liblinear', C=10)) # too hard to calculate\n",
    "\n",
    "poly_classifie1 = make_pipeline(LogisticRegression()) # 776\n",
    "poly_classifie2 = make_pipeline(poly2, LogisticRegression()) # 772\n",
    "poly_classifie3 = make_pipeline(poly3, LogisticRegression()) # 784\n",
    "poly_classifie4 = make_pipeline(poly4, LogisticRegression()) # 801\n",
    "\n",
    "# Create a voting ensemble classifier\n",
    "ensemble_classifier = VotingClassifier(estimators=[\n",
    "    ('lasso2', lasso_classifier2), \n",
    "    ('ridge3', ridge_classifier3), # 956\n",
    "])\n",
    "\n",
    "ensemble_classifier.fit(X_train, y_train)\n",
    "y_pred = ensemble_classifier.predict(X_train)\n",
    "accuracy = accuracy_score(y_train, y_pred)\n",
    "print(\"Improved Accuracy:\", accuracy)\n",
    "confusion = confusion_matrix(y_train, y_pred)\n",
    "print(confusion)\n",
    "metrics(y_train, y_pred)\n",
    "\n",
    "y_pred = ensemble_classifier.predict(X_val)\n",
    "accuracy = accuracy_score(y_val, y_pred)\n",
    "print(\"Improved Accuracy:\", accuracy)\n",
    "confusion = confusion_matrix(y_val, y_pred)\n",
    "print(confusion)\n",
    "metrics(y_val, y_pred)\n"
   ]
  },
  {
   "cell_type": "code",
   "execution_count": 35,
   "metadata": {},
   "outputs": [
    {
     "data": {
      "text/plain": [
       "(5000, 9)"
      ]
     },
     "execution_count": 35,
     "metadata": {},
     "output_type": "execute_result"
    }
   ],
   "source": [
    "test_data = pd.read_csv('./HW2 附件/HW2_hr-analytics_test.csv')\n",
    "test_data.shape"
   ]
  },
  {
   "cell_type": "code",
   "execution_count": 36,
   "metadata": {},
   "outputs": [
    {
     "name": "stdout",
     "output_type": "stream",
     "text": [
      "Doing onehot encoding on col: ['sales', 'salary']\n",
      "(5000, 9) -> (5000, 18)\n",
      "(5000, 18) -> (5000, 20)\n"
     ]
    }
   ],
   "source": [
    "test_df = test_data.copy()\n",
    "col_not_num = []\n",
    "for col in test_df.columns:\n",
    "    if check_non_numeric_values(test_df, col):\n",
    "        col_not_num.append(col)\n",
    "\n",
    "print(f\"Doing onehot encoding on col: {col_not_num}\")\n",
    "for col in col_not_num:\n",
    "    test_df = onehot_encoding(test_df, col)"
   ]
  },
  {
   "cell_type": "code",
   "execution_count": 37,
   "metadata": {},
   "outputs": [
    {
     "data": {
      "text/plain": [
       "(5000,)"
      ]
     },
     "execution_count": 37,
     "metadata": {},
     "output_type": "execute_result"
    }
   ],
   "source": [
    "test_size = 0.2\n",
    "random_state = 42\n",
    "\n",
    "trans = True\n",
    "if trans: # 956 -> 957\n",
    "    scaler = StandardScaler()\n",
    "    test_df['average_montly_hours'] = scaler.fit_transform(test_df[['average_montly_hours']])\n",
    "\n",
    "X = test_df\n",
    "y_real_pred = ensemble_classifier.predict(X)\n",
    "y_real_pred.shape"
   ]
  },
  {
   "cell_type": "code",
   "execution_count": 38,
   "metadata": {},
   "outputs": [
    {
     "name": "stdout",
     "output_type": "stream",
     "text": [
      "      left\n",
      "0        0\n",
      "1        0\n",
      "2        0\n",
      "3        1\n",
      "4        0\n",
      "...    ...\n",
      "4995     0\n",
      "4996     1\n",
      "4997     0\n",
      "4998     0\n",
      "4999     1\n",
      "\n",
      "[5000 rows x 1 columns]\n"
     ]
    }
   ],
   "source": [
    "result = y_real_pred.reshape(-1, 1)  # Reshape to (1000, 1)\n",
    "# Create a DataFrame with one column 'left'\n",
    "result_df = pd.DataFrame(data=result, columns=['left'])\n",
    "print(result_df)\n",
    "result_df.to_csv('HW2_hr-analytics_test_sol.csv', index=False)"
   ]
  },
  {
   "cell_type": "code",
   "execution_count": 41,
   "metadata": {},
   "outputs": [
    {
     "name": "stdout",
     "output_type": "stream",
     "text": [
      "0      -0.827940\n",
      "1      -0.927944\n",
      "2       0.352100\n",
      "3       1.272131\n",
      "4      -1.307957\n",
      "          ...   \n",
      "4995    0.012088\n",
      "4996   -1.487963\n",
      "4997    1.132127\n",
      "4998   -0.427927\n",
      "4999   -0.867942\n",
      "Name: average_montly_hours, Length: 5000, dtype: float64\n"
     ]
    }
   ],
   "source": [
    "print(X['average_montly_hours'])"
   ]
  }
 ],
 "metadata": {
  "kernelspec": {
   "display_name": "base",
   "language": "python",
   "name": "python3"
  },
  "language_info": {
   "codemirror_mode": {
    "name": "ipython",
    "version": 3
   },
   "file_extension": ".py",
   "mimetype": "text/x-python",
   "name": "python",
   "nbconvert_exporter": "python",
   "pygments_lexer": "ipython3",
   "version": "3.10.11"
  }
 },
 "nbformat": 4,
 "nbformat_minor": 2
}
