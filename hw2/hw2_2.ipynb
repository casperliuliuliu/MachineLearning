{
 "cells": [
  {
   "cell_type": "markdown",
   "metadata": {},
   "source": [
    "Read data."
   ]
  },
  {
   "cell_type": "code",
   "execution_count": 8,
   "metadata": {},
   "outputs": [],
   "source": [
    "import pandas as pd\n",
    "data = pd.read_csv('./HW2 附件/HW2_bike-sharing_train.csv')"
   ]
  },
  {
   "cell_type": "markdown",
   "metadata": {},
   "source": [
    "Preprocessing"
   ]
  },
  {
   "cell_type": "code",
   "execution_count": 13,
   "metadata": {},
   "outputs": [
    {
     "name": "stdout",
     "output_type": "stream",
     "text": [
      "Index(['datetime', 'season', 'holiday', 'workingday', 'weather', 'temp',\n",
      "       'atemp', 'humidity', 'windspeed', 'count'],\n",
      "      dtype='object')\n",
      "                datetime  season  holiday  workingday  weather   temp   atemp  \\\n",
      "0    2011-01-01 00:00:00       1        0           0        1   9.84  14.395   \n",
      "1    2011-01-01 01:00:00       1        0           0        1   9.02  13.635   \n",
      "2    2011-01-01 02:00:00       1        0           0        1   9.02  13.635   \n",
      "3    2011-01-01 03:00:00       1        0           0        1   9.84  14.395   \n",
      "4    2011-01-01 04:00:00       1        0           0        1   9.84  14.395   \n",
      "...                  ...     ...      ...         ...      ...    ...     ...   \n",
      "8381 2012-12-19 17:00:00       4        0           1        1  16.40  20.455   \n",
      "8382 2012-12-19 18:00:00       4        0           1        1  15.58  19.695   \n",
      "8383 2012-12-19 19:00:00       4        0           1        1  15.58  19.695   \n",
      "8384 2012-12-19 20:00:00       4        0           1        1  14.76  17.425   \n",
      "8385 2012-12-19 22:00:00       4        0           1        1  13.94  17.425   \n",
      "\n",
      "      humidity  windspeed  count  year  month  day  hour  \n",
      "0           81     0.0000     16  2011      1    1     0  \n",
      "1           80     0.0000     40  2011      1    1     1  \n",
      "2           80     0.0000     32  2011      1    1     2  \n",
      "3           75     0.0000     13  2011      1    1     3  \n",
      "4           75     0.0000      1  2011      1    1     4  \n",
      "...        ...        ...    ...   ...    ...  ...   ...  \n",
      "8381        50    26.0027    562  2012     12   19    17  \n",
      "8382        50    23.9994    569  2012     12   19    18  \n",
      "8383        50    26.0027    336  2012     12   19    19  \n",
      "8384        57    15.0013    241  2012     12   19    20  \n",
      "8385        61     6.0032    129  2012     12   19    22  \n",
      "\n",
      "[8386 rows x 14 columns]\n"
     ]
    }
   ],
   "source": [
    "\n",
    "df = data.copy()\n",
    "print(df.columns)\n",
    "df['datetime'] = pd.to_datetime(df['datetime'])\n",
    "\n",
    "# # Extract year, month, day, hour, minute, and second as separate columns\n",
    "df['year'] = df['datetime'].dt.year\n",
    "df['month'] = df['datetime'].dt.month\n",
    "df['day'] = df['datetime'].dt.day\n",
    "df['hour'] = df['datetime'].dt.hour\n",
    "print(df)"
   ]
  },
  {
   "cell_type": "code",
   "execution_count": null,
   "metadata": {},
   "outputs": [],
   "source": []
  }
 ],
 "metadata": {
  "kernelspec": {
   "display_name": "base",
   "language": "python",
   "name": "python3"
  },
  "language_info": {
   "codemirror_mode": {
    "name": "ipython",
    "version": 3
   },
   "file_extension": ".py",
   "mimetype": "text/x-python",
   "name": "python",
   "nbconvert_exporter": "python",
   "pygments_lexer": "ipython3",
   "version": "3.10.11"
  }
 },
 "nbformat": 4,
 "nbformat_minor": 2
}
