{
 "cells": [
  {
   "cell_type": "code",
   "execution_count": 1,
   "metadata": {},
   "outputs": [],
   "source": [
    "import pandas as pd\n",
    "import torch\n",
    "df = pd.read_csv('./HW2 附件/HW2_house-prices.csv')"
   ]
  },
  {
   "cell_type": "code",
   "execution_count": 2,
   "metadata": {},
   "outputs": [
    {
     "data": {
      "text/plain": [
       "1"
      ]
     },
     "execution_count": 2,
     "metadata": {},
     "output_type": "execute_result"
    }
   ],
   "source": [
    "def turn_into_encoding(word, ll):\n",
    "    return ll.index(word)\n",
    "\n",
    "turn_into_encoding('jj', ['aa','jj'])"
   ]
  },
  {
   "cell_type": "code",
   "execution_count": 3,
   "metadata": {},
   "outputs": [],
   "source": [
    "test_df = df.copy()\n",
    "for ii in test_df.columns:\n",
    "    if not (test_df[ii].dtype == int or test_df[ii].dtype == float):\n",
    "        # print(list(set(test_df[ii])))\n",
    "        test_df[ii] = test_df[ii].apply(turn_into_encoding, ll = list(set(test_df[ii])))\n",
    "        # print(test_df[ii])\n",
    "        # break"
   ]
  },
  {
   "cell_type": "code",
   "execution_count": 100,
   "metadata": {},
   "outputs": [],
   "source": [
    "test_df.fillna(0)\n",
    "train_size = int(test_df.shape[0] * 0.7)\n",
    "train = test_df[:train_size].reset_index(drop=True)\n",
    "test = test_df[train_size:].reset_index(drop=True)"
   ]
  },
  {
   "cell_type": "code",
   "execution_count": 101,
   "metadata": {},
   "outputs": [],
   "source": [
    "\n",
    "class LinearRegressionModel(torch.nn.Module):\n",
    " \n",
    "    def __init__(self):\n",
    "        super(LinearRegressionModel, self).__init__()\n",
    "        self.linear = torch.nn.Linear(3, 1)  # One in and one out\n",
    " \n",
    "    def forward(self, x):\n",
    "        y_pred = self.linear(x)\n",
    "        # print(y_pred.dtype)\n",
    "        return y_pred.reshape(y_pred.shape[0])"
   ]
  },
  {
   "cell_type": "code",
   "execution_count": 102,
   "metadata": {},
   "outputs": [
    {
     "name": "stdout",
     "output_type": "stream",
     "text": [
      "(1021, 81)\n"
     ]
    }
   ],
   "source": [
    "print(train.shape)"
   ]
  },
  {
   "cell_type": "code",
   "execution_count": 103,
   "metadata": {},
   "outputs": [
    {
     "name": "stdout",
     "output_type": "stream",
     "text": [
      "Index(['Id', 'MSSubClass', 'MSZoning'], dtype='object')\n"
     ]
    }
   ],
   "source": [
    "print(x_train.columns)"
   ]
  },
  {
   "cell_type": "code",
   "execution_count": 111,
   "metadata": {},
   "outputs": [],
   "source": [
    "x_train = train.copy()[['Id', 'MSSubClass', 'MSZoning']].astype('float32')\n",
    "y_train = train.copy()['Id'].astype('float32')"
   ]
  },
  {
   "cell_type": "code",
   "execution_count": 112,
   "metadata": {},
   "outputs": [],
   "source": [
    "x_data = torch.tensor(x_train.values)\n",
    "y_data = torch.tensor(y_train.values)\n",
    "# print(x_data.shape)\n",
    "our_model = LinearRegressionModel()\n",
    "y = our_model(x_data)\n",
    "# print(y.shape)\n",
    "# print(y)"
   ]
  },
  {
   "cell_type": "code",
   "execution_count": 113,
   "metadata": {},
   "outputs": [
    {
     "name": "stdout",
     "output_type": "stream",
     "text": [
      "torch.Size([1021, 3])\n",
      "torch.Size([1021])\n"
     ]
    }
   ],
   "source": [
    "print(x_data.shape)\n",
    "print(y_data.shape)"
   ]
  },
  {
   "cell_type": "code",
   "execution_count": 114,
   "metadata": {},
   "outputs": [
    {
     "name": "stdout",
     "output_type": "stream",
     "text": [
      "<bound method Module.parameters of LinearRegressionModel(\n",
      "  (linear): Linear(in_features=3, out_features=1, bias=True)\n",
      ")>\n"
     ]
    }
   ],
   "source": [
    "print(our_model.parameters)"
   ]
  },
  {
   "cell_type": "code",
   "execution_count": 115,
   "metadata": {},
   "outputs": [
    {
     "name": "stdout",
     "output_type": "stream",
     "text": [
      "epoch 0, loss 608978.375\n",
      "epoch 1, loss 2753283328.0\n",
      "epoch 2, loss 2711342.0\n",
      "epoch 3, loss 2753283328.0\n",
      "epoch 4, loss 2711342.0\n",
      "epoch 5, loss 2753283328.0\n",
      "epoch 6, loss 2711342.0\n",
      "epoch 7, loss 2753283328.0\n",
      "epoch 8, loss 2711342.0\n",
      "epoch 9, loss 2753283328.0\n",
      "epoch 10, loss 2711342.0\n",
      "epoch 11, loss 2753283328.0\n",
      "epoch 12, loss 2711342.0\n",
      "epoch 13, loss 2753283328.0\n",
      "epoch 14, loss 2711342.0\n",
      "epoch 15, loss 2753283328.0\n",
      "epoch 16, loss 2711342.0\n",
      "epoch 17, loss 2753283328.0\n",
      "epoch 18, loss 2711342.0\n",
      "epoch 19, loss 2753283328.0\n",
      "epoch 20, loss 2711342.0\n",
      "epoch 21, loss 2753283328.0\n",
      "epoch 22, loss 2711342.0\n",
      "epoch 23, loss 2753283328.0\n",
      "epoch 24, loss 2711342.0\n",
      "epoch 25, loss 2753283328.0\n",
      "epoch 26, loss 2711342.0\n",
      "epoch 27, loss 2753283328.0\n",
      "epoch 28, loss 2711342.0\n",
      "epoch 29, loss 2753283328.0\n",
      "epoch 30, loss 2711342.0\n",
      "epoch 31, loss 2753283328.0\n",
      "epoch 32, loss 2711342.0\n",
      "epoch 33, loss 2753283328.0\n",
      "epoch 34, loss 2711342.0\n",
      "epoch 35, loss 2753283328.0\n",
      "epoch 36, loss 2711342.0\n",
      "epoch 37, loss 2753283328.0\n",
      "epoch 38, loss 2711342.0\n",
      "epoch 39, loss 2753283328.0\n",
      "epoch 40, loss 2711342.0\n",
      "epoch 41, loss 2753283328.0\n",
      "epoch 42, loss 2711342.0\n",
      "epoch 43, loss 2753283328.0\n",
      "epoch 44, loss 2711342.0\n",
      "epoch 45, loss 2753283328.0\n",
      "epoch 46, loss 2711342.0\n",
      "epoch 47, loss 2753283328.0\n",
      "epoch 48, loss 2711342.0\n",
      "epoch 49, loss 2753283328.0\n"
     ]
    },
    {
     "name": "stderr",
     "output_type": "stream",
     "text": [
      "/Users/liushiwen/miniforge3/lib/python3.10/site-packages/torch/nn/_reduction.py:42: UserWarning: size_average and reduce args will be deprecated, please use reduction='sum' instead.\n",
      "  warnings.warn(warning.format(ret))\n"
     ]
    }
   ],
   "source": [
    "our_model = LinearRegressionModel()\n",
    "criterion = torch.nn.L1Loss(size_average = False)\n",
    "optimizer = torch.optim.SGD(our_model.parameters(), lr = 0.01)\n",
    "for epoch in range(50):\n",
    " \n",
    "    # Forward pass: Compute predicted y by passing\n",
    "    # x to the model\n",
    "    pred_y = our_model(x_data)\n",
    "    # print(pred_y)\n",
    "    # Compute and print loss\n",
    "    # print(pred_y)\n",
    "    # print(y_data)\n",
    "    loss = criterion(pred_y, y_data)\n",
    " \n",
    "    # Zero gradients, perform a backward pass,\n",
    "    # and update the weights.\n",
    "    optimizer.zero_grad()\n",
    "    loss.backward()\n",
    "    optimizer.step()\n",
    "    print('epoch {}, loss {}'.format(epoch, loss.item()))"
   ]
  },
  {
   "cell_type": "code",
   "execution_count": 116,
   "metadata": {},
   "outputs": [
    {
     "name": "stdout",
     "output_type": "stream",
     "text": [
      "tensor(1.8105, grad_fn=<MseLossBackward0>)\n"
     ]
    }
   ],
   "source": [
    "loss = torch.nn.MSELoss()\n",
    "input = torch.randn(3, 5, requires_grad=True)\n",
    "target = torch.randn(3, 5)\n",
    "\n",
    "output = loss(input, target)\n",
    "output.backward()\n",
    "print(output)"
   ]
  },
  {
   "cell_type": "code",
   "execution_count": null,
   "metadata": {},
   "outputs": [],
   "source": []
  }
 ],
 "metadata": {
  "kernelspec": {
   "display_name": "base",
   "language": "python",
   "name": "python3"
  },
  "language_info": {
   "codemirror_mode": {
    "name": "ipython",
    "version": 3
   },
   "file_extension": ".py",
   "mimetype": "text/x-python",
   "name": "python",
   "nbconvert_exporter": "python",
   "pygments_lexer": "ipython3",
   "version": "3.10.11"
  },
  "orig_nbformat": 4
 },
 "nbformat": 4,
 "nbformat_minor": 2
}
