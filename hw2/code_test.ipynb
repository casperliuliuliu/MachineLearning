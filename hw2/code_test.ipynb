{
 "cells": [
  {
   "cell_type": "code",
   "execution_count": 14,
   "metadata": {},
   "outputs": [
    {
     "name": "stdout",
     "output_type": "stream",
     "text": [
      "   Feature1  Feature2  f3    f1\n",
      "0        10         5   1  0.00\n",
      "1        20        15   1  0.25\n",
      "2        30        25   0  0.50\n",
      "3        40        35   0  0.75\n",
      "4        50        45   0  1.00\n"
     ]
    }
   ],
   "source": [
    "from sklearn.preprocessing import MinMaxScaler\n",
    "\n",
    "# Sample data with numerical features\n",
    "data = {'Feature1': [10, 20, 30, 40, 50],\n",
    "        'Feature2': [5, 15, 25, 35, 45],\n",
    "        'f3': [1,1,0,0,0]\n",
    "        }\n",
    "df = pd.DataFrame(data)\n",
    "\n",
    "# Initialize the MinMaxScaler\n",
    "scaler = MinMaxScaler()\n",
    "\n",
    "# Fit and transform the data using MinMaxScaler\n",
    "df_normalized = scaler.fit_transform(df[['Feature1']])\n",
    "df['f1'] = df_normalized\n",
    "print(df)"
   ]
  },
  {
   "cell_type": "code",
   "execution_count": 10,
   "metadata": {},
   "outputs": [
    {
     "name": "stdout",
     "output_type": "stream",
     "text": [
      "   Feature1  Feature2\n",
      "0 -1.414214 -1.414214\n",
      "1 -0.707107 -0.707107\n",
      "2  0.000000  0.000000\n",
      "3  0.707107  0.707107\n",
      "4  1.414214  1.414214\n"
     ]
    }
   ],
   "source": [
    "from sklearn.preprocessing import StandardScaler\n",
    "\n",
    "# Sample data with numerical features\n",
    "data = {'Feature1': [10, 20, 30, 40, 50],\n",
    "        'Feature2': [5, 15, 25, 35, 45]}\n",
    "df = pd.DataFrame(data)\n",
    "\n",
    "# Initialize the StandardScaler\n",
    "scaler = StandardScaler()\n",
    "\n",
    "# Fit and transform the data using StandardScaler\n",
    "df_standardized = scaler.fit_transform(df)\n",
    "df_standardized = pd.DataFrame(df_standardized, columns=df.columns)\n",
    "print(df_standardized)\n"
   ]
  }
 ],
 "metadata": {
  "kernelspec": {
   "display_name": "base",
   "language": "python",
   "name": "python3"
  },
  "language_info": {
   "codemirror_mode": {
    "name": "ipython",
    "version": 3
   },
   "file_extension": ".py",
   "mimetype": "text/x-python",
   "name": "python",
   "nbconvert_exporter": "python",
   "pygments_lexer": "ipython3",
   "version": "3.10.11"
  }
 },
 "nbformat": 4,
 "nbformat_minor": 2
}
