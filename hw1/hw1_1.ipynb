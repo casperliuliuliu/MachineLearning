{
 "cells": [
  {
   "cell_type": "markdown",
   "id": "727a6a4b-404b-42d4-ae84-74f2f9062b15",
   "metadata": {},
   "source": [
    "write a python program to check if picture is a cat or a dog"
   ]
  },
  {
   "cell_type": "code",
   "execution_count": 47,
   "id": "ae1f3c1c",
   "metadata": {},
   "outputs": [],
   "source": [
    "import numpy as np\n",
    "from IPython.display import Image\n",
    "from matplotlib import pyplot as plt\n",
    "import cv2\n"
   ]
  },
  {
   "cell_type": "code",
   "execution_count": 53,
   "id": "4365fc99-0f56-48e8-b77f-3f4c9e9aef1e",
   "metadata": {},
   "outputs": [
    {
     "name": "stdout",
     "output_type": "stream",
     "text": [
      "great job!\n"
     ]
    }
   ],
   "source": [
    "num = input(\"Enter a number to pick image for display (1 to 20)\")\n",
    "if num.isdigit():\n",
    "    print(\"great job!\")\n",
    "    data_path = f'./test/pic{num}.jpg'\n",
    "else:\n",
    "    print(f\"{num} is not in the range\")"
   ]
  },
  {
   "cell_type": "code",
   "execution_count": 95,
   "id": "0e9c3331",
   "metadata": {},
   "outputs": [],
   "source": [
    "refer_set = {\n",
    "    \"cat\": \"./reference/cats/cat.\",\n",
    "    \"dog\": \"./reference/dogs/dog.\"\n",
    "    }\n",
    "height = 64\n",
    "width = 64\n",
    "channel = 3\n"
   ]
  },
  {
   "cell_type": "code",
   "execution_count": 135,
   "id": "f5e427f9",
   "metadata": {},
   "outputs": [],
   "source": [
    "\n",
    "def read_image(path):\n",
    "    im = cv2.imread(path)\n",
    "    return cv2.cvtColor(im, cv2.COLOR_BGR2RGB)   # BGR -> RGB\n",
    "def resize_image(array,height,width):\n",
    "    return cv2.resize(array, (height,width))\n",
    "def show_image(array):\n",
    "    plt.imshow(array)\n",
    "def calculate_diff(img0, img1, height, width, channel):\n",
    "    if np.sum(img0) > np.sum(img1):\n",
    "        return np.sum(img0 - img1)/(height*width*channel)\n",
    "    return np.sum(img1 - img0)/(height*width*channel)\n",
    "\n",
    "def update_candi(num, name, diffs, img_names, k):\n",
    "    for ii in range(k):\n",
    "        if diffs[ii] > num:\n",
    "            diffs[ii] = num\n",
    "            img_names[ii] = name\n",
    "            break\n",
    "    return diffs, img_names\n"
   ]
  },
  {
   "cell_type": "code",
   "execution_count": 158,
   "id": "13ea51d5",
   "metadata": {},
   "outputs": [
    {
     "name": "stdout",
     "output_type": "stream",
     "text": [
      "60.0 1\n",
      "best k = 1, with acc = 60.0\n"
     ]
    }
   ],
   "source": [
    "\n",
    "def main(k):\n",
    "    right = 0\n",
    "    for num in range(1,21):\n",
    "        diffs = [100000 for ii in range(k)]\n",
    "        img_names = [\"\" for ii in range(k)]\n",
    "        arr = read_image(f\"./test/pic{num}.jpg\")\n",
    "        new_arr = resize_image(arr, height, width)\n",
    "        cat_answer = [1,3,5,6,10,11,13,16,19,20]\n",
    "        cat = 0\n",
    "        for category in refer_set:\n",
    "            test_path = refer_set[category]\n",
    "            for ii in range(1, 51):\n",
    "                sub_path = test_path + f\"{ii}.jpg\"\n",
    "                test_arr = read_image(sub_path)\n",
    "                test_arr = resize_image(test_arr, height, width)\n",
    "                difference_value = calculate_diff(new_arr, test_arr, height, width, channel)\n",
    "                update_candi(difference_value, sub_path, diffs, img_names, k)\n",
    "        for path in img_names:\n",
    "            if \"cat\" in path:\n",
    "                cat += 1\n",
    "        if (cat > int(k/2) and num in cat_answer) or (cat <= int(k/2) and not (num in cat_answer)):\n",
    "            # print(\"Good MODEL!\")\n",
    "            right +=1\n",
    "        else:\n",
    "            # print(\"baddy..\")\n",
    "            continue\n",
    "    return right/20 * 100\n",
    "\n",
    "best = 0.0\n",
    "acc = 0.0\n",
    "for ii in range(1,51):\n",
    "    current = main(ii)\n",
    "    if current > acc:\n",
    "        best = ii\n",
    "        acc = current\n",
    "        print(acc, best)\n",
    "print(f\"best k = {best}, with acc = {acc}\")\n"
   ]
  }
 ],
 "metadata": {
  "kernelspec": {
   "display_name": "base",
   "language": "python",
   "name": "python3"
  },
  "language_info": {
   "codemirror_mode": {
    "name": "ipython",
    "version": 3
   },
   "file_extension": ".py",
   "mimetype": "text/x-python",
   "name": "python",
   "nbconvert_exporter": "python",
   "pygments_lexer": "ipython3",
   "version": "3.10.11"
  }
 },
 "nbformat": 4,
 "nbformat_minor": 5
}
