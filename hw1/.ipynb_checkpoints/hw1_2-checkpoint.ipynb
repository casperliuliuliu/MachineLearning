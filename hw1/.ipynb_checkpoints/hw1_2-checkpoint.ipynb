{
 "cells": [
  {
   "cell_type": "code",
   "execution_count": 1,
   "id": "eb33d90b-b678-49dd-97b1-71dcf2938374",
   "metadata": {},
   "outputs": [],
   "source": [
    "import pandas as pd"
   ]
  },
  {
   "cell_type": "code",
   "execution_count": 3,
   "id": "c619a697-377d-4d26-8898-d03c63249568",
   "metadata": {},
   "outputs": [],
   "source": [
    "df = pd.read_csv(\"D:/P2023/MachineLearning/hw1/HW1_data.csv\")"
   ]
  },
  {
   "cell_type": "code",
   "execution_count": 7,
   "id": "5bcc7e74-bc21-4fa6-8d1d-4dae7aeef840",
   "metadata": {},
   "outputs": [
    {
     "name": "stdout",
     "output_type": "stream",
     "text": [
      "{'Weight', 'Sex', 'Height', 'Age', 'BP', 'HR'}\n"
     ]
    }
   ],
   "source": [
    "print(set(df['1']))"
   ]
  },
  {
   "cell_type": "code",
   "execution_count": null,
   "id": "770fad47-644b-4ed4-88cc-a8c1b3a32665",
   "metadata": {},
   "outputs": [],
   "source": []
  }
 ],
 "metadata": {
  "kernelspec": {
   "display_name": "GPU",
   "language": "python",
   "name": "gpu"
  },
  "language_info": {
   "codemirror_mode": {
    "name": "ipython",
    "version": 3
   },
   "file_extension": ".py",
   "mimetype": "text/x-python",
   "name": "python",
   "nbconvert_exporter": "python",
   "pygments_lexer": "ipython3",
   "version": "3.10.12"
  }
 },
 "nbformat": 4,
 "nbformat_minor": 5
}
