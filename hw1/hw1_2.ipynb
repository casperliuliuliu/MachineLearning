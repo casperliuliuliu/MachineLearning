{
 "cells": [
  {
   "cell_type": "code",
   "execution_count": 2,
   "id": "eb33d90b-b678-49dd-97b1-71dcf2938374",
   "metadata": {},
   "outputs": [],
   "source": [
    "import pandas as pd"
   ]
  },
  {
   "cell_type": "code",
   "execution_count": 5,
   "id": "c619a697-377d-4d26-8898-d03c63249568",
   "metadata": {},
   "outputs": [],
   "source": [
    "df = pd.read_csv(\"./HW1_data.csv\")"
   ]
  },
  {
   "cell_type": "code",
   "execution_count": 6,
   "id": "f6bb2704-b566-48f0-9d71-c78732788922",
   "metadata": {},
   "outputs": [
    {
     "name": "stdout",
     "output_type": "stream",
     "text": [
      "            0       1    2\n",
      "0      Daniel  Weight   72\n",
      "1       Avery     Age   66\n",
      "2      Joseph  Weight   70\n",
      "3     Jackson      BP   97\n",
      "4        Nora  Height  153\n",
      "..        ...     ...  ...\n",
      "271    Elijah      BP  137\n",
      "272      Aria     Age   55\n",
      "273  Penelope     Age   47\n",
      "274     Chloe     Age   70\n",
      "275  Benjamin     Age   39\n",
      "\n",
      "[276 rows x 3 columns]\n"
     ]
    }
   ],
   "source": [
    "print(df)"
   ]
  },
  {
   "cell_type": "code",
   "execution_count": 37,
   "id": "770fad47-644b-4ed4-88cc-a8c1b3a32665",
   "metadata": {},
   "outputs": [
    {
     "name": "stdout",
     "output_type": "stream",
     "text": [
      "         Name  Sex Height  Age Weight   BP   HR\n",
      "0       Avery  NaN    NaN  NaN    NaN  NaN  NaN\n",
      "1     Jackson  NaN    NaN  NaN    NaN  NaN  NaN\n",
      "2        Emma  NaN    NaN  NaN    NaN  NaN  NaN\n",
      "3     Matthew  NaN    NaN  NaN    NaN  NaN  NaN\n",
      "4     Madison  NaN    NaN  NaN    NaN  NaN  NaN\n",
      "5        Liam  NaN    NaN  NaN    NaN  NaN  NaN\n",
      "6       Grace  NaN    NaN  NaN    NaN  NaN  NaN\n",
      "7       James  NaN    NaN  NaN    NaN  NaN  NaN\n",
      "8    Victoria  NaN    NaN  NaN    NaN  NaN  NaN\n",
      "9       Sofia  NaN    NaN  NaN    NaN  NaN  NaN\n",
      "10      Lucas  NaN    NaN  NaN    NaN  NaN  NaN\n",
      "11    Michael  NaN    NaN  NaN    NaN  NaN  NaN\n",
      "12      Henry  NaN    NaN  NaN    NaN  NaN  NaN\n",
      "13     Evelyn  NaN    NaN  NaN    NaN  NaN  NaN\n",
      "14  Alexander  NaN    NaN  NaN    NaN  NaN  NaN\n",
      "15      Aiden  NaN    NaN  NaN    NaN  NaN  NaN\n",
      "16     Elijah  NaN    NaN  NaN    NaN  NaN  NaN\n",
      "17     Camila  NaN    NaN  NaN    NaN  NaN  NaN\n",
      "18       Mila  NaN    NaN  NaN    NaN  NaN  NaN\n",
      "19      Ethan  NaN    NaN  NaN    NaN  NaN  NaN\n",
      "20        Mia  NaN    NaN  NaN    NaN  NaN  NaN\n",
      "21  Elizabeth  NaN    NaN  NaN    NaN  NaN  NaN\n",
      "22      Layla  NaN    NaN  NaN    NaN  NaN  NaN\n",
      "23      Chloe  NaN    NaN  NaN    NaN  NaN  NaN\n",
      "24      Riley  NaN    NaN  NaN    NaN  NaN  NaN\n",
      "25   Isabella  NaN    NaN  NaN    NaN  NaN  NaN\n",
      "26    William  NaN    NaN  NaN    NaN  NaN  NaN\n",
      "27       Aria  NaN    NaN  NaN    NaN  NaN  NaN\n",
      "28  Charlotte  NaN    NaN  NaN    NaN  NaN  NaN\n",
      "29     Oliver  NaN    NaN  NaN    NaN  NaN  NaN\n",
      "30   Benjamin  NaN    NaN  NaN    NaN  NaN  NaN\n",
      "31       Ella  NaN    NaN  NaN    NaN  NaN  NaN\n",
      "32     Daniel  NaN    NaN  NaN    NaN  NaN  NaN\n",
      "33        Ava  NaN    NaN  NaN    NaN  NaN  NaN\n",
      "34     Joseph  NaN    NaN  NaN    NaN  NaN  NaN\n",
      "35   Penelope  NaN    NaN  NaN    NaN  NaN  NaN\n",
      "36   Scarlett  NaN    NaN  NaN    NaN  NaN  NaN\n",
      "37     Olivia  NaN    NaN  NaN    NaN  NaN  NaN\n",
      "38    Lillian  NaN    NaN  NaN    NaN  NaN  NaN\n",
      "39      Logan  NaN    NaN  NaN    NaN  NaN  NaN\n",
      "40      Jacob  NaN    NaN  NaN    NaN  NaN  NaN\n",
      "41     Amelia  NaN    NaN  NaN    NaN  NaN  NaN\n",
      "42       Zoey  NaN    NaN  NaN    NaN  NaN  NaN\n",
      "43    Abigail  NaN    NaN  NaN    NaN  NaN  NaN\n",
      "44     Harper  NaN    NaN  NaN    NaN  NaN  NaN\n",
      "45       Noah  NaN    NaN  NaN    NaN  NaN  NaN\n",
      "46       Nora  NaN    NaN  NaN    NaN  NaN  NaN\n",
      "47     Sophia  NaN    NaN  NaN    NaN  NaN  NaN\n",
      "48      Emily  NaN    NaN  NaN    NaN  NaN  NaN\n",
      "49      Mason  NaN    NaN  NaN    NaN  NaN  NaN\n"
     ]
    }
   ],
   "source": [
    "new_df = pd.DataFrame(columns = [\"Name\"]+list(set(df['1'])))\n",
    "new_df['Name'] = list(set(df['0']))\n",
    "\n",
    "print(new_df)\n"
   ]
  },
  {
   "cell_type": "code",
   "execution_count": 53,
   "metadata": {},
   "outputs": [
    {
     "name": "stdout",
     "output_type": "stream",
     "text": [
      "       0       1    2\n",
      "0  Sofia     Age   58\n",
      "1  Sofia  Weight   59\n",
      "2  Sofia     Sex    F\n",
      "3  Sofia      HR   79\n",
      "4  Sofia      BP  131\n",
      "5  Sofia  Height  171\n"
     ]
    }
   ],
   "source": [
    "name = \"Sofia\"\n",
    "per_df = df[df['0'] == name].reset_index(drop=True)\n",
    "print(per_df)"
   ]
  },
  {
   "cell_type": "code",
   "execution_count": 56,
   "id": "69ac3f66",
   "metadata": {},
   "outputs": [
    {
     "name": "stdout",
     "output_type": "stream",
     "text": [
      "         Name Sex Height Age Weight   BP   HR\n",
      "0       Avery   F    159  66     54  121   72\n",
      "1     Jackson   M    170  46     64   97   81\n",
      "2        Emma   F    159  35     64  137   61\n",
      "3     Matthew   M    166  69     70  128   85\n",
      "4     Madison   F    NaN  74    NaN  NaN   80\n",
      "5        Liam   M    172  45     62  141   94\n",
      "6       Grace   F    172  15     64  134   91\n",
      "7       James   M    NaN  65    NaN  124   67\n",
      "8    Victoria   F    NaN  62    NaN   96   65\n",
      "9       Sofia   F    171  58     59  131   79\n",
      "10      Lucas   M    171  39     64  148  NaN\n",
      "11    Michael   M    163  13     65  NaN   79\n",
      "12      Henry   M    179  70     63  130   81\n",
      "13     Evelyn   F    168  60     60  106   67\n",
      "14  Alexander   M    171  43     62  124   66\n",
      "15      Aiden   M    166  38     69  136   93\n",
      "16     Elijah   M    177  30     73  137   64\n",
      "17     Camila   F    166  44     46  134  NaN\n",
      "18       Mila   F    164  48     48  139  NaN\n",
      "19      Ethan   M    167  12     61  103   86\n",
      "20        Mia   F    171  60     60  127   90\n",
      "21  Elizabeth   F    163  43     56   98   84\n",
      "22      Layla   F    156  12     47  142   87\n",
      "23      Chloe   F    174  70     66   93   81\n",
      "24      Riley   F    NaN  26    NaN  139   78\n",
      "25   Isabella   F    151  31     51   94   82\n",
      "26    William   M    174  38     73  119   86\n",
      "27       Aria   F    170  55     59  127   81\n",
      "28  Charlotte   F    NaN  65    NaN   92   82\n",
      "29     Oliver   M    184  45     66  139   62\n",
      "30   Benjamin   M    164  39     68  122   72\n",
      "31       Ella   F    168  10     67  137   80\n",
      "32     Daniel   M    165  37     72  131   80\n",
      "33        Ava   F    165  70     63  NaN   66\n",
      "34     Joseph   M    168  42     70  110  NaN\n",
      "35   Penelope   F    174  47     61  134  NaN\n",
      "36   Scarlett   F    154  60     64  107   74\n",
      "37     Olivia   F    152  51     52  100   92\n",
      "38    Lillian   F    158  66     59   91   64\n",
      "39      Logan   M    177  62     76  NaN   87\n",
      "40      Jacob   M    183  13     76  147   89\n",
      "41     Amelia   F    151  66     49  119  NaN\n",
      "42       Zoey   F    NaN  37    NaN  112   79\n",
      "43    Abigail   F    161  46     56  119   87\n",
      "44     Harper   F    174  36     53  121   60\n",
      "45       Noah   M    181  30     68  NaN   77\n",
      "46       Nora   F    153  48     59   93   82\n",
      "47     Sophia   F    168  66     49  144   62\n",
      "48      Emily   F    166  52     46   98   84\n",
      "49      Mason   M    186  37     76  134  NaN\n"
     ]
    }
   ],
   "source": [
    "name = \"Mia\"\n",
    "for name in new_df['Name']:\n",
    "    # getting each person's information\n",
    "    per_df = df[df['0'] == name].reset_index(drop=True)\n",
    "    num = new_df.index[new_df['Name'] == name]\n",
    "    for ii in range(per_df.shape[0]):\n",
    "        # print(ii)\n",
    "        col_name = per_df['1'][ii]\n",
    "        new_df.loc[num, col_name] = per_df['2'][ii]\n",
    "print(new_df)"
   ]
  },
  {
   "cell_type": "code",
   "execution_count": 121,
   "id": "bab10023-abae-458c-bacb-cb566ab24641",
   "metadata": {},
   "outputs": [
    {
     "name": "stdout",
     "output_type": "stream",
     "text": [
      "The person with Max value:\n",
      "Height: Mason->186.0 \n",
      "Age: Madison->74.0 \n",
      "Weight: Logan->76.0 \n",
      "BP: Lucas->148.0 \n",
      "HR: Liam->94.0 \n"
     ]
    }
   ],
   "source": [
    "data = new_df.fillna(0)\n",
    "data = data.astype({\n",
    "    \"Height\": int,\n",
    "    \"Age\": int,\n",
    "    \"Weight\": int,\n",
    "    \"BP\": int,\n",
    "    \"HR\": int\n",
    "\n",
    "    })\n",
    "avg = []\n",
    "max_idx = []\n",
    "for col in data.columns:\n",
    "    if col == \"Name\" or col == \"Sex\":\n",
    "        continue\n",
    "    # print(col)\n",
    "    # print(type(data[col][0]))\n",
    "    valid_number = data.shape[0] - (data[col] == 0).sum()\n",
    "    avg.append(data[col].sum()/valid_number)\n",
    "    max_idx.append(data[col].idxmax())\n",
    "# print(data.columns)\n",
    "data.loc[len(data)] = ['AVG', 'N'] + avg\n",
    "# print(['AVG'] + avg)\n",
    "# print(data.iloc[49])\n",
    "print(\"The person with Max value:\")\n",
    "for ii in range(5):\n",
    "    col_name = data.columns[ii+2]\n",
    "    print(f\"{col_name}: {data['Name'][max_idx[ii]]}->{data[col_name][max_idx[ii]]} \")\n"
   ]
  },
  {
   "cell_type": "code",
   "execution_count": 116,
   "id": "9a922eef",
   "metadata": {},
   "outputs": [
    {
     "name": "stdout",
     "output_type": "stream",
     "text": [
      "      Name Sex  Height   Age  Weight     BP    HR\n",
      "0    Avery   F   159.0  66.0    54.0  121.0  72.0\n",
      "1  Jackson   M   170.0  46.0    64.0   97.0  81.0\n",
      "2     Emma   F   159.0  35.0    64.0  137.0  61.0\n",
      "3  Matthew   M   166.0  69.0    70.0  128.0  85.0\n",
      "4  Madison   F     0.0  74.0     0.0    0.0  80.0\n"
     ]
    }
   ],
   "source": [
    "print(data.head())"
   ]
  },
  {
   "cell_type": "code",
   "execution_count": 117,
   "id": "697edd8c",
   "metadata": {},
   "outputs": [
    {
     "data": {
      "image/png": "[encoded data removed]",
      "text/plain": [
       "<Figure size 800x300 with 1 Axes>"
      ]
     },
     "metadata": {},
     "output_type": "display_data"
    }
   ],
   "source": [
    "import matplotlib.pyplot as plt\n",
    "\n",
    "df = data.copy()\n",
    "\n",
    "# Separate data for males and females\n",
    "male_data = df[df['Sex'] == 'M']\n",
    "female_data = df[df['Sex'] == 'F']\n",
    "\n",
    "# Create a scatter plot\n",
    "plt.figure(figsize=(8, 3))\n",
    "plt.scatter(male_data['Height'], male_data['Weight'], c='blue', label='Male')\n",
    "plt.scatter(female_data['Height'], female_data['Weight'], c='red', label='Female')\n",
    "\n",
    "# Labeling the plot\n",
    "plt.title('Scatter Plot of Height vs. Weight')\n",
    "plt.xlabel('Height (cm)')\n",
    "plt.ylabel('Weight (kg)')\n",
    "plt.legend()\n",
    "\n",
    "# Show the plot\n",
    "plt.grid(True)\n",
    "plt.show()\n"
   ]
  },
  {
   "cell_type": "code",
   "execution_count": null,
   "id": "58a1aa50",
   "metadata": {},
   "outputs": [],
   "source": []
  }
 ],
 "metadata": {
  "kernelspec": {
   "display_name": "base",
   "language": "python",
   "name": "python3"
  },
  "language_info": {
   "codemirror_mode": {
    "name": "ipython",
    "version": 3
   },
   "file_extension": ".py",
   "mimetype": "text/x-python",
   "name": "python",
   "nbconvert_exporter": "python",
   "pygments_lexer": "ipython3",
   "version": "3.10.11"
  }
 },
 "nbformat": 4,
 "nbformat_minor": 5
}
